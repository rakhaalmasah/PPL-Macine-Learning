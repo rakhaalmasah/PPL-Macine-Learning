{
 "cells": [
  {
   "cell_type": "markdown",
   "metadata": {
    "id": "AE_KdwgBTV0Y"
   },
   "source": [
    "# **DATASET KURS USD/IDR - GOOGLE COLAB CODE**"
   ]
  },
  {
   "cell_type": "markdown",
   "metadata": {
    "id": "1MgKHWN0-0x3"
   },
   "source": [
    "# PERSIAPAN DATASET\n"
   ]
  },
  {
   "cell_type": "markdown",
   "metadata": {
    "id": "uQNHZ38VTGy8"
   },
   "source": [
    "## Import Package"
   ]
  },
  {
   "cell_type": "code",
   "execution_count": null,
   "metadata": {
    "id": "z7crHtae-rqd"
   },
   "outputs": [],
   "source": [
    "import numpy as np\n",
    "import pandas as pd\n",
    "import matplotlib.pyplot as plt\n",
    "import seaborn as sns\n",
    "import os"
   ]
  },
  {
   "cell_type": "markdown",
   "metadata": {
    "id": "G5ybnw8bTNaL"
   },
   "source": [
    "## Load Data"
   ]
  },
  {
   "cell_type": "code",
   "execution_count": null,
   "metadata": {
    "id": "cTuMznhwBMtX"
   },
   "outputs": [],
   "source": [
    "data_bsde = pd.read_csv('/content/data_bsde_per_bulan.csv')\n",
    "data_usdidr = pd.read_csv('/content/data_usdidr_per_bulan.csv')\n",
    "data_birate = pd.read_csv('/content/BI_Rate.csv')\n",
    "data_inflasi = pd.read_csv('/content/Inflasi_convert.csv')"
   ]
  },
  {
   "cell_type": "code",
   "execution_count": null,
   "metadata": {
    "colab": {
     "base_uri": "https://localhost:8080/",
     "height": 206
    },
    "id": "a7bUveHeBkqX",
    "outputId": "20e9b6ca-8cd7-4a61-ec00-97620bb0b9ca"
   },
   "outputs": [],
   "source": [
    "data_bsde.head()"
   ]
  },
  {
   "cell_type": "code",
   "execution_count": null,
   "metadata": {
    "colab": {
     "base_uri": "https://localhost:8080/",
     "height": 206
    },
    "id": "yt7r8SWA9P1x",
    "outputId": "e6799005-fe24-4a1f-de23-19fbac9d5933"
   },
   "outputs": [],
   "source": [
    "data_usdidr.head()"
   ]
  },
  {
   "cell_type": "code",
   "execution_count": null,
   "metadata": {
    "colab": {
     "base_uri": "https://localhost:8080/",
     "height": 206
    },
    "id": "q8k_Yf-29SU_",
    "outputId": "2264549a-a30c-45eb-8b0e-d6739ababef2"
   },
   "outputs": [],
   "source": [
    "data_birate.head()"
   ]
  },
  {
   "cell_type": "code",
   "execution_count": null,
   "metadata": {
    "colab": {
     "base_uri": "https://localhost:8080/",
     "height": 206
    },
    "id": "03dyYXj4Xk2g",
    "outputId": "354a78d5-55c2-441b-db9f-d9c440e110f8"
   },
   "outputs": [],
   "source": [
    "data_inflasi.head()"
   ]
  },
  {
   "cell_type": "markdown",
   "metadata": {
    "id": "_bM-TBxyexKH"
   },
   "source": [
    "## Data Merging of BSDE, USD/IDR, BI Rate, and Inflation Rate"
   ]
  },
  {
   "cell_type": "code",
   "execution_count": null,
   "metadata": {
    "id": "9w-ctMLCeyAU"
   },
   "outputs": [],
   "source": [
    "data_bsde['Date'] = pd.to_datetime(data_bsde['Date'], format='%b %Y')\n",
    "data_usdidr['Date'] = pd.to_datetime(data_usdidr['Date'], format='%b %Y')\n",
    "data_birate['Date'] = pd.to_datetime(data_birate['Date'], format='%b %Y')\n",
    "data_inflasi['Date'] = pd.to_datetime(data_inflasi['Date'], format='%b %Y')\n",
    "\n",
    "merged_data = pd.merge(data_bsde, data_usdidr, on='Date', suffixes=('_bsde', '_usdidr'))\n",
    "merged_data = pd.merge(merged_data, data_birate, on='Date')\n",
    "merged_data_inflasi = pd.merge(data_bsde, data_inflasi, on='Date')"
   ]
  },
  {
   "cell_type": "markdown",
   "metadata": {
    "id": "mYHs0Ni8d23N"
   },
   "source": [
    "## Data Visualization of BSDE, USD/IDR, BI Rate, and Inflation Rate\n"
   ]
  },
  {
   "cell_type": "code",
   "execution_count": null,
   "metadata": {
    "colab": {
     "base_uri": "https://localhost:8080/",
     "height": 1000
    },
    "id": "RIn9R7M990IP",
    "outputId": "d934c4a4-b3ae-4786-d531-c366aa9672a8"
   },
   "outputs": [],
   "source": [
    "fig, ax1 = plt.subplots(figsize=(12, 6))\n",
    "\n",
    "ax1.set_xlabel('Date')\n",
    "ax1.set_ylabel('BSDE Close Price (IDR)', color='blue')\n",
    "ax1.plot(merged_data['Date'], merged_data['Close_bsde'], label='BSDE Close Price', color='blue')\n",
    "ax1.tick_params(axis='y', labelcolor='blue')\n",
    "\n",
    "ax2 = ax1.twinx()\n",
    "ax2.set_ylabel('USD/IDR', color='red')\n",
    "ax2.plot(merged_data['Date'], merged_data['Close_usdidr'], label='USD/IDR', color='red')\n",
    "ax2.tick_params(axis='y', labelcolor='red')\n",
    "\n",
    "plt.title('BSDE vs USD/IDR', fontsize=14)\n",
    "\n",
    "fig.autofmt_xdate()\n",
    "\n",
    "plt.grid(True)\n",
    "plt.tight_layout()\n",
    "plt.show()\n",
    "\n",
    "fig, ax1 = plt.subplots(figsize=(12, 6))\n",
    "\n",
    "ax1.set_xlabel('Date')\n",
    "ax1.set_ylabel('BSDE Close Price (IDR)', color='blue')\n",
    "ax1.plot(merged_data['Date'], merged_data['Close_bsde'], label='BSDE Close Price', color='blue')\n",
    "ax1.tick_params(axis='y', labelcolor='blue')\n",
    "\n",
    "ax2 = ax1.twinx()\n",
    "ax2.set_ylabel('BI Rate (%)', color='red')\n",
    "ax2.plot(merged_data['Date'], merged_data['BI Rate'], label='BI Rate', color='red')\n",
    "ax2.tick_params(axis='y', labelcolor='red')\n",
    "\n",
    "plt.title('BSDE vs BI Rate', fontsize=14)\n",
    "\n",
    "fig.autofmt_xdate()\n",
    "\n",
    "plt.grid(True)\n",
    "plt.tight_layout()\n",
    "plt.show()\n",
    "\n",
    "fig, ax1 = plt.subplots(figsize=(12, 6))\n",
    "\n",
    "ax1.set_xlabel('Date')\n",
    "ax1.set_ylabel('BSDE Close Price (IDR)', color='blue')\n",
    "ax1.plot(merged_data_inflasi['Date'], merged_data_inflasi['Close'], label='BSDE Close Price', color='blue')\n",
    "ax1.tick_params(axis='y', labelcolor='blue')\n",
    "\n",
    "ax2 = ax1.twinx()\n",
    "ax2.set_ylabel('Inflation Rate (%)', color='red')\n",
    "ax2.plot(merged_data_inflasi['Date'], merged_data_inflasi['Inflasi'], label='Inflation Rate', color='red')\n",
    "ax2.tick_params(axis='y', labelcolor='red')\n",
    "\n",
    "plt.title('BSDE vs Inflation Rate', fontsize=14)\n",
    "\n",
    "fig.autofmt_xdate()\n",
    "\n",
    "plt.grid(True)\n",
    "plt.tight_layout()\n",
    "plt.show()"
   ]
  },
  {
   "cell_type": "markdown",
   "metadata": {
    "id": "kB8vhZT4fnjp"
   },
   "source": [
    "## Data Preprocessing"
   ]
  },
  {
   "cell_type": "markdown",
   "metadata": {
    "id": "aDt2iBB3gEXa"
   },
   "source": [
    "### Merging Datasets for BSDE, BI Rate, and USD/IDR Data\n",
    "\n",
    "This cell merges data for BSDE’s stock price, BI Rate, and USD/IDR exchange rate into a single DataFrame for analysis and visualization."
   ]
  },
  {
   "cell_type": "code",
   "execution_count": null,
   "metadata": {
    "id": "1p93t0uDACHl"
   },
   "outputs": [],
   "source": [
    "merged_data = pd.merge(data_bsde, data_birate, on='Date', how='inner')\n",
    "\n",
    "merged_data = pd.merge(merged_data, data_usdidr, on='Date', how='inner')\n",
    "\n",
    "merged_data.rename(columns={\n",
    "    'Close_x': 'Close BSDE',\n",
    "    'Close_y': 'Close USDIDR'\n",
    "}, inplace=True)\n",
    "merged_data['Date'] = pd.to_datetime(merged_data['Date']).dt.strftime('%b %Y')"
   ]
  },
  {
   "cell_type": "code",
   "execution_count": null,
   "metadata": {
    "colab": {
     "base_uri": "https://localhost:8080/",
     "height": 206
    },
    "id": "mSLNOrIyAhyL",
    "outputId": "52c06b1f-c33c-4261-d69f-4bac912ebe22"
   },
   "outputs": [],
   "source": [
    "merged_data.head()"
   ]
  },
  {
   "cell_type": "markdown",
   "metadata": {
    "id": "5d28-P3igHMm"
   },
   "source": [
    "### Merging Inflation Rate Data with BSDE, BI Rate, and USD/IDR Dataset\n",
    "\n",
    "This cell integrates the inflation rate data with the previously merged dataset, which includes BSDE’s close price, BI Rate, and USD/IDR exchange rate."
   ]
  },
  {
   "cell_type": "code",
   "execution_count": null,
   "metadata": {
    "id": "tHIafl9rYgkk"
   },
   "outputs": [],
   "source": [
    "merged_data['Date'] = pd.to_datetime(merged_data['Date'], format='%b %Y')\n",
    "data_inflasi['Date'] = pd.to_datetime(data_inflasi['Date'], format='%b %Y')\n",
    "\n",
    "merged_data = pd.merge(merged_data, data_inflasi, on='Date', how='inner')\n",
    "\n",
    "merged_data.rename(columns={\n",
    "    'Inflasi': 'Inflasi Rate'\n",
    "}, inplace=True)\n",
    "merged_data['Date'] = pd.to_datetime(merged_data['Date']).dt.strftime('%b %Y')"
   ]
  },
  {
   "cell_type": "code",
   "execution_count": null,
   "metadata": {
    "colab": {
     "base_uri": "https://localhost:8080/",
     "height": 206
    },
    "id": "PskUf15rz7_G",
    "outputId": "e3a3313c-1b2b-46e2-d387-045ef2d0934d"
   },
   "outputs": [],
   "source": [
    "merged_data.head()"
   ]
  },
  {
   "cell_type": "markdown",
   "metadata": {
    "id": "_UZiRi7VgVT7"
   },
   "source": [
    "## Data Overview and Statistical Summary"
   ]
  },
  {
   "cell_type": "code",
   "execution_count": null,
   "metadata": {
    "colab": {
     "base_uri": "https://localhost:8080/"
    },
    "id": "Y0PF384A_aRB",
    "outputId": "e0787369-6a46-4024-c29e-a19ebd31dc48"
   },
   "outputs": [],
   "source": [
    "merged_data.info()"
   ]
  },
  {
   "cell_type": "code",
   "execution_count": null,
   "metadata": {
    "colab": {
     "base_uri": "https://localhost:8080/",
     "height": 300
    },
    "id": "EKZZilrP_glP",
    "outputId": "404f57f9-2080-4b21-a305-6bc0d3ed8a08"
   },
   "outputs": [],
   "source": [
    "merged_data.describe()"
   ]
  },
  {
   "cell_type": "markdown",
   "metadata": {
    "id": "mA2_5oyjUNqA"
   },
   "source": [
    "# MODEL 1 SAHAM\n"
   ]
  },
  {
   "cell_type": "markdown",
   "metadata": {
    "id": "b6E2EmHxi3g-"
   },
   "source": [
    "## Import Package"
   ]
  },
  {
   "cell_type": "code",
   "execution_count": null,
   "metadata": {
    "id": "oWFppNIbUNqG"
   },
   "outputs": [],
   "source": [
    "import tensorflow as tf\n",
    "from tensorflow.keras.callbacks import ModelCheckpoint\n",
    "from tensorflow.keras import regularizers\n",
    "import matplotlib.pyplot as plt\n",
    "from sklearn.preprocessing import StandardScaler"
   ]
  },
  {
   "cell_type": "markdown",
   "metadata": {
    "id": "_sobTOHpjYS-"
   },
   "source": [
    "## Data preparation"
   ]
  },
  {
   "cell_type": "markdown",
   "metadata": {
    "id": "toPdgBYZi_zO"
   },
   "source": [
    "### Defining Train and Label Variables for Modeling"
   ]
  },
  {
   "cell_type": "code",
   "execution_count": null,
   "metadata": {
    "id": "UiyW91evUNqG"
   },
   "outputs": [],
   "source": [
    "X = merged_data[['Close USDIDR', 'BI Rate', 'Inflasi Rate']].values  # Variabel independen\n",
    "Y = merged_data['Close BSDE'].values  # Variabel dependen"
   ]
  },
  {
   "cell_type": "markdown",
   "metadata": {
    "id": "FjJuMJLljnPk"
   },
   "source": [
    "### Data Splitting and Normalization for Training and Validation"
   ]
  },
  {
   "cell_type": "code",
   "execution_count": null,
   "metadata": {
    "id": "TEv68UMLUNqG"
   },
   "outputs": [],
   "source": [
    "# 70% Train, 30% Val\n",
    "total_size = len(X)\n",
    "train_size = int(0.70 * total_size)\n",
    "\n",
    "X_train, Y_train = X[:train_size], Y[:train_size]\n",
    "X_val, Y_val = X[train_size:], Y[train_size:]\n",
    "\n",
    "scaler_X = StandardScaler()\n",
    "X_train_scaled = scaler_X.fit_transform(X_train)\n",
    "X_val_scaled = scaler_X.transform(X_val)\n",
    "\n",
    "scaler_Y = StandardScaler()\n",
    "Y_train_scaled = scaler_Y.fit_transform(Y_train.reshape(-1, 1)).flatten()\n",
    "Y_val_scaled = scaler_Y.transform(Y_val.reshape(-1, 1)).flatten()\n"
   ]
  },
  {
   "cell_type": "markdown",
   "metadata": {
    "id": "elFypNe7jxSw"
   },
   "source": [
    "## Modelling"
   ]
  },
  {
   "cell_type": "markdown",
   "metadata": {
    "id": "mJ1_KY6Hjwxf"
   },
   "source": [
    "### Model Architecture\n"
   ]
  },
  {
   "cell_type": "code",
   "execution_count": null,
   "metadata": {
    "id": "Tb2lfsQJUNqG"
   },
   "outputs": [],
   "source": [
    "model = tf.keras.Sequential([\n",
    "    tf.keras.layers.Input(shape=(X_train.shape[1],)),\n",
    "    tf.keras.layers.Dense(512, activation='relu', kernel_regularizer=regularizers.l2(0.0001)),\n",
    "    tf.keras.layers.Dropout(0.2),\n",
    "    tf.keras.layers.Dense(512, activation='relu', kernel_regularizer=regularizers.l2(0.0001)),\n",
    "    tf.keras.layers.Dropout(0.2),\n",
    "    tf.keras.layers.Dense(512, activation='relu', kernel_regularizer=regularizers.l2(0.0001)),\n",
    "    tf.keras.layers.Dropout(0.2),\n",
    "    tf.keras.layers.Dense(1, activation='linear', kernel_regularizer=regularizers.l2(0.0001))\n",
    "])"
   ]
  },
  {
   "cell_type": "code",
   "execution_count": null,
   "metadata": {
    "colab": {
     "base_uri": "https://localhost:8080/",
     "height": 374
    },
    "id": "PLENS4HnUNqH",
    "outputId": "2c827388-d308-4b9d-dcee-b975f4de0207"
   },
   "outputs": [],
   "source": [
    "model.summary()"
   ]
  },
  {
   "cell_type": "markdown",
   "metadata": {
    "id": "_I1P8A_qj1eA"
   },
   "source": [
    "### Define Checkpoint"
   ]
  },
  {
   "cell_type": "code",
   "execution_count": null,
   "metadata": {
    "id": "PrrMU0WpUNqH"
   },
   "outputs": [],
   "source": [
    "checkpoint_filepath = 'best_model.keras'\n",
    "checkpoint = ModelCheckpoint(filepath=checkpoint_filepath,\n",
    "                             monitor='val_loss',\n",
    "                             save_best_only=True,\n",
    "                             mode='min')"
   ]
  },
  {
   "cell_type": "markdown",
   "metadata": {
    "id": "GjnBHLMwj8Ez"
   },
   "source": [
    "### Model Training"
   ]
  },
  {
   "cell_type": "markdown",
   "metadata": {
    "id": "n83rndg-kCl_"
   },
   "source": [
    "Model Compilation: Setting Optimizer, Loss Function, and Evaluation Metrics"
   ]
  },
  {
   "cell_type": "code",
   "execution_count": null,
   "metadata": {
    "id": "FExvs6BgUNqH"
   },
   "outputs": [],
   "source": [
    "model.compile(optimizer='adam', loss='mse', metrics=['mae', 'mse'])"
   ]
  },
  {
   "cell_type": "markdown",
   "metadata": {
    "id": "sWWzapDokPE3"
   },
   "source": [
    "Model Training: Fitting the Neural Network on Training Data\n"
   ]
  },
  {
   "cell_type": "code",
   "execution_count": null,
   "metadata": {
    "colab": {
     "base_uri": "https://localhost:8080/"
    },
    "id": "wsBxJ-DJUNqH",
    "outputId": "5282e074-975d-454f-cc3a-f655e499733a"
   },
   "outputs": [],
   "source": [
    "history = model.fit(X_train_scaled, Y_train_scaled,\n",
    "                    validation_data=(X_val_scaled, Y_val_scaled),\n",
    "                    epochs=1000,\n",
    "                    batch_size=32,\n",
    "                    callbacks=[checkpoint])"
   ]
  },
  {
   "cell_type": "markdown",
   "metadata": {
    "id": "K0iA3whmkao9"
   },
   "source": [
    "### Visualization of Model Training Metrics"
   ]
  },
  {
   "cell_type": "code",
   "execution_count": null,
   "metadata": {
    "colab": {
     "base_uri": "https://localhost:8080/",
     "height": 449
    },
    "id": "hfW5m1p1Uw9W",
    "outputId": "4822327a-3626-4895-8045-4cac9e5ce457"
   },
   "outputs": [],
   "source": [
    "loss = history.history['loss']\n",
    "val_loss = history.history['val_loss']\n",
    "mse = history.history['mse']\n",
    "val_mse = history.history['val_mse']\n",
    "mae = history.history['mae']\n",
    "val_mae = history.history['val_mae']\n",
    "epochs_range = range(1, len(loss) + 1)\n",
    "\n",
    "fig, axes = plt.subplots(1, 3, figsize=(20, 6))  # Adjust figure size for larger plots\n",
    "fig.suptitle('BSDE Stock Model Metrics', fontsize=16)\n",
    "\n",
    "\n",
    "# Plot 1: Training and Validation Loss\n",
    "axes[0].plot(epochs_range, loss, label='Training Loss', color='blue')\n",
    "axes[0].plot(epochs_range, val_loss, label='Validation Loss', color='red')\n",
    "axes[0].set_title('Training and Validation Loss')\n",
    "axes[0].set_xlabel('Epochs')\n",
    "axes[0].set_ylabel('Loss')\n",
    "axes[0].legend()\n",
    "axes[0].grid(True)\n",
    "\n",
    "# Plot 2: Training and Validation MSE\n",
    "axes[1].plot(epochs_range, mse, label='Training MSE', color='green')\n",
    "axes[1].plot(epochs_range, val_mse, label='Validation MSE', color='orange')\n",
    "axes[1].set_title('Training and Validation MSE')\n",
    "axes[1].set_xlabel('Epochs')\n",
    "axes[1].set_ylabel('MSE')\n",
    "axes[1].legend()\n",
    "axes[1].grid(True)\n",
    "\n",
    "# Plot 3: Training and Validation MAE\n",
    "axes[2].plot(epochs_range, mae, label='Training MAE', color='purple')\n",
    "axes[2].plot(epochs_range, val_mae, label='Validation MAE', color='brown')\n",
    "axes[2].set_title('Training and Validation MAE')\n",
    "axes[2].set_xlabel('Epochs')\n",
    "axes[2].set_ylabel('MAE')\n",
    "axes[2].legend()\n",
    "axes[2].grid(True)\n",
    "\n",
    "\n",
    "plt.tight_layout(rect=[0, 0.03, 1, 0.95])  # Adjust layout to prevent overlap\n",
    "\n",
    "plt.savefig('BSDE.png') # save plot\n",
    "plt.show()"
   ]
  },
  {
   "cell_type": "markdown",
   "metadata": {
    "id": "_bPDHSVckd2d"
   },
   "source": [
    "# Save Model Plot Matrict"
   ]
  },
  {
   "cell_type": "code",
   "execution_count": null,
   "metadata": {
    "colab": {
     "base_uri": "https://localhost:8080/",
     "height": 17
    },
    "id": "wwO7Rh7mUw9W",
    "outputId": "5cbd3162-1262-47ff-84fa-51ca644eb9c9"
   },
   "outputs": [],
   "source": [
    "from google.colab import files\n",
    "files.download('BSDE.png')"
   ]
  }
 ],
 "metadata": {
  "colab": {
   "provenance": [],
   "toc_visible": true
  },
  "kernelspec": {
   "display_name": "Python 3",
   "name": "python3"
  },
  "language_info": {
   "name": "python"
  }
 },
 "nbformat": 4,
 "nbformat_minor": 0
}
